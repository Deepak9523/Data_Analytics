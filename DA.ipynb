{
 "cells": [
  {
   "cell_type": "markdown",
   "id": "392a1b3f-c935-4127-b64c-581007b8bab7",
   "metadata": {},
   "source": [
    " # Statistics\n",
    " "
   ]
  },
  {
   "cell_type": "markdown",
   "id": "befe3f6a-4d7b-4dca-9f26-ab9b27fad064",
   "metadata": {},
   "source": [
    "numbers that hava been collected in order to provide information about something"
   ]
  },
  {
   "cell_type": "markdown",
   "id": "a772977c-0f27-4231-a840-9e9a83dafe73",
   "metadata": {},
   "source": [
    "# the science of collecting and studying these numbers"
   ]
  },
  {
   "cell_type": "code",
   "execution_count": null,
   "id": "c0803abe-6d26-42f7-9616-93e44e931224",
   "metadata": {},
   "outputs": [],
   "source": [
    "eg-\n",
    "   1 Human =5.6ft\n",
    "   2 cocount =200ft\n",
    " average / mean =102.8"
   ]
  },
  {
   "cell_type": "code",
   "execution_count": 10,
   "id": "dc14e9e9-522e-4953-b052-28bb035fee44",
   "metadata": {},
   "outputs": [
    {
     "data": {
      "text/plain": [
       "102.8"
      ]
     },
     "execution_count": 10,
     "metadata": {},
     "output_type": "execute_result"
    }
   ],
   "source": [
    "(5.6+200)/2"
   ]
  },
  {
   "cell_type": "code",
   "execution_count": 11,
   "id": "e8244271-cdf2-4b5e-a560-dfc9243153bb",
   "metadata": {},
   "outputs": [
    {
     "data": {
      "text/plain": [
       "145.20000000000002"
      ]
     },
     "execution_count": 11,
     "metadata": {},
     "output_type": "execute_result"
    }
   ],
   "source": [
    "(5.6+200+230)/3"
   ]
  },
  {
   "cell_type": "markdown",
   "id": "2fee4a5e-a8f6-4f60-9df8-b0923fda5ccb",
   "metadata": {},
   "source": [
    "# mean"
   ]
  },
  {
   "cell_type": "markdown",
   "id": "d10e6fd8-d1ca-4ee8-a39c-227515810b43",
   "metadata": {},
   "source": [
    "There are three tyes"
   ]
  },
  {
   "cell_type": "code",
   "execution_count": null,
   "id": "12ca2846-556b-473b-8413-e8028b3e1ef0",
   "metadata": {},
   "outputs": [],
   "source": [
    "1.Arithmetic mean\n",
    "2.Geometric mean\n",
    "3.Harmonic mean"
   ]
  },
  {
   "cell_type": "markdown",
   "id": "1a4240c1-a12b-4b7f-a85c-8a02ff67bb78",
   "metadata": {},
   "source": [
    "# 1. Arithmetic Mean"
   ]
  },
  {
   "cell_type": "markdown",
   "id": "ed766339-775b-468f-ae37-d500308f331b",
   "metadata": {},
   "source": [
    "Same range in value"
   ]
  },
  {
   "cell_type": "code",
   "execution_count": null,
   "id": "7e666e25-232a-416c-90db-d956a44d0c11",
   "metadata": {},
   "outputs": [],
   "source": [
    "Formula:-\n",
    "          X1+X2+X3.......Xn/2"
   ]
  },
  {
   "cell_type": "code",
   "execution_count": 3,
   "id": "3e41d2e9-6d51-46fb-bfe4-2189a1caf541",
   "metadata": {},
   "outputs": [
    {
     "data": {
      "text/plain": [
       "92.0"
      ]
     },
     "execution_count": 3,
     "metadata": {},
     "output_type": "execute_result"
    }
   ],
   "source": [
    "(92+92+92+92+92)/5"
   ]
  },
  {
   "cell_type": "markdown",
   "id": "d1102f0a-a9b9-45d3-a6d5-10a8a1abc8c5",
   "metadata": {},
   "source": [
    "# 2.Geometric Mean:-"
   ]
  },
  {
   "cell_type": "markdown",
   "id": "1212572f-0269-4b4a-89c1-f946bd73e043",
   "metadata": {},
   "source": [
    "# Different Range in value\n",
    "    Formula:-\n",
    "        (x1*x2*x3......xn)/1/n\n",
    "    "
   ]
  },
  {
   "cell_type": "code",
   "execution_count": 5,
   "id": "ba6a7764-c6ed-4fcc-8b6b-d88fc85264ef",
   "metadata": {},
   "outputs": [
    {
     "data": {
      "text/plain": [
       "33.46640106136302"
      ]
     },
     "execution_count": 5,
     "metadata": {},
     "output_type": "execute_result"
    }
   ],
   "source": [
    "import math \n",
    "math.sqrt(5.6*200)"
   ]
  },
  {
   "cell_type": "code",
   "execution_count": 9,
   "id": "8cac725c-277d-4be5-bbcf-3d744717fa0a",
   "metadata": {},
   "outputs": [
    {
     "data": {
      "text/plain": [
       "53.923989995517"
      ]
     },
     "execution_count": 9,
     "metadata": {},
     "output_type": "execute_result"
    }
   ],
   "source": [
    "import math \n",
    "(5.6*200*140)**(1/3)"
   ]
  },
  {
   "cell_type": "markdown",
   "id": "ec453bd0-7f67-4f93-856d-52f9fb57daa0",
   "metadata": {},
   "source": [
    "# 3. Harmonic Mean"
   ]
  },
  {
   "cell_type": "markdown",
   "id": "ac24dce0-34fe-4f3b-aeeb-c543253fcd80",
   "metadata": {},
   "source": [
    "Rate of Change in value\n"
   ]
  },
  {
   "cell_type": "code",
   "execution_count": null,
   "id": "3c5924ef-1e8a-450d-b16d-188b7a9bfec9",
   "metadata": {},
   "outputs": [],
   "source": [
    "Formula:-\n",
    "         n/1/n+1/n+1/nn\n",
    "    "
   ]
  },
  {
   "cell_type": "code",
   "execution_count": null,
   "id": "f0ac4ccc-0ca0-4c49-a810-79709aade2d1",
   "metadata": {},
   "outputs": [],
   "source": [
    "eg:-\n",
    "80km\n",
    "20km \n",
    "32km"
   ]
  },
  {
   "cell_type": "code",
   "execution_count": 14,
   "id": "155c6885-eb65-4d05-89f3-17ca28ab17d8",
   "metadata": {},
   "outputs": [
    {
     "data": {
      "text/plain": [
       "32.0"
      ]
     },
     "execution_count": 14,
     "metadata": {},
     "output_type": "execute_result"
    }
   ],
   "source": [
    "2/1/80+1/20\n",
    "1/1+4/80\n",
    "1/5/80\n",
    "2*80/5"
   ]
  },
  {
   "cell_type": "code",
   "execution_count": null,
   "id": "a07e1303-af85-41a0-9137-acbff9cdac64",
   "metadata": {},
   "outputs": [],
   "source": [
    "Restra A   B\n",
    "Rating 3   4\n",
    "Revies 80  70"
   ]
  },
  {
   "cell_type": "code",
   "execution_count": 15,
   "id": "51a376c1-87f0-4025-a67d-e81fa03eb4da",
   "metadata": {},
   "outputs": [
    {
     "data": {
      "text/plain": [
       "15.491933384829666"
      ]
     },
     "execution_count": 15,
     "metadata": {},
     "output_type": "execute_result"
    }
   ],
   "source": [
    "import statistics as s\n",
    "s.geometric_mean((3,80))"
   ]
  },
  {
   "cell_type": "code",
   "execution_count": 16,
   "id": "105b0e4a-b827-4a50-8f8d-fa8b2bbd1517",
   "metadata": {},
   "outputs": [
    {
     "data": {
      "text/plain": [
       "16.733200530681515"
      ]
     },
     "execution_count": 16,
     "metadata": {},
     "output_type": "execute_result"
    }
   ],
   "source": [
    "import statistics as s\n",
    "s.geometric_mean((4,70))"
   ]
  },
  {
   "cell_type": "code",
   "execution_count": null,
   "id": "ffb9c7c5-6648-4dd0-a3ee-455f211302dc",
   "metadata": {},
   "outputs": [],
   "source": [
    "a=4\n",
    "b=6"
   ]
  },
  {
   "cell_type": "code",
   "execution_count": 18,
   "id": "8b4b2dc9-b5bc-4783-b3ad-d62ca570d1ce",
   "metadata": {},
   "outputs": [
    {
     "data": {
      "text/plain": [
       "5"
      ]
     },
     "execution_count": 18,
     "metadata": {},
     "output_type": "execute_result"
    }
   ],
   "source": [
    "s.mean((4,6))   #Arithmetic mean"
   ]
  },
  {
   "cell_type": "code",
   "execution_count": 20,
   "id": "f47c4caf-befc-4d3d-97e5-3fbfb91bd640",
   "metadata": {},
   "outputs": [
    {
     "data": {
      "text/plain": [
       "4.898979485566356"
      ]
     },
     "execution_count": 20,
     "metadata": {},
     "output_type": "execute_result"
    }
   ],
   "source": [
    "s.geometric_mean((4,6))   # geometric mean"
   ]
  },
  {
   "cell_type": "code",
   "execution_count": 21,
   "id": "c7a82eaa-6599-48b7-835a-00a73c80f636",
   "metadata": {},
   "outputs": [
    {
     "data": {
      "text/plain": [
       "4.8"
      ]
     },
     "execution_count": 21,
     "metadata": {},
     "output_type": "execute_result"
    }
   ],
   "source": [
    "s.harmonic_mean((4,6))    # harmoinic mean"
   ]
  },
  {
   "cell_type": "markdown",
   "id": "ac272b0c-1ede-4141-a862-3cd04abd229a",
   "metadata": {},
   "source": [
    "# median"
   ]
  },
  {
   "cell_type": "markdown",
   "id": "69f75af9-14a0-4651-938c-e5b1fae96233",
   "metadata": {},
   "source": [
    "The middle number found by ordering all data points and picking out the one\n",
    "in the middle (or if there are two middle number  taking the mean of those two numbers)"
   ]
  },
  {
   "cell_type": "markdown",
   "id": "33470e02-0b3f-4bf0-a592-645f0f969dd0",
   "metadata": {},
   "source": [
    " # Median is center point of data "
   ]
  },
  {
   "cell_type": "markdown",
   "id": "442db000-4c35-4b18-af36-5c35d8934333",
   "metadata": {},
   "source": [
    "# Demo:1\n",
    "        creating a sample data than sorting into ascending order"
   ]
  },
  {
   "cell_type": "code",
   "execution_count": 32,
   "id": "bea82868-af33-47b8-80d5-e788b88d30ec",
   "metadata": {},
   "outputs": [
    {
     "data": {
      "text/plain": [
       "[1, 2, 3, 4, 5, 6, 7, 8, 9]"
      ]
     },
     "execution_count": 32,
     "metadata": {},
     "output_type": "execute_result"
    }
   ],
   "source": [
    "x=[1,3,2,5,4,7,8,6,9,]\n",
    "x.sort()\n",
    "x"
   ]
  },
  {
   "cell_type": "markdown",
   "id": "666dde2c-10d0-49fb-a52a-d8bab8b946da",
   "metadata": {},
   "source": [
    "# There are two types median "
   ]
  },
  {
   "cell_type": "markdown",
   "id": "c3ffdacc-4afa-426f-9377-5aebab84a563",
   "metadata": {},
   "source": [
    "1.Add term median\n",
    "2.Even term median"
   ]
  },
  {
   "cell_type": "markdown",
   "id": "6356ddcd-b9ab-4c49-b4e2-a359897e2361",
   "metadata": {},
   "source": [
    "# Odd term median:-\n",
    "                "
   ]
  },
  {
   "cell_type": "markdown",
   "id": "4ff0b791-bead-4d16-9845-de864b56dffd",
   "metadata": {},
   "source": [
    "# Demo:1.1\n",
    "\n",
    " odd median :\n",
    "        \n",
    "      formula:  M=(n+1/2)th\n",
    "    \n",
    "      Where:\n",
    "            \n",
    "        n=total number of values\n",
    "        \n",
    "        th=term\n",
    "        \n",
    "        "
   ]
  },
  {
   "cell_type": "code",
   "execution_count": 31,
   "id": "8b5f29c7-00a1-4c7c-999a-3e26bc5ae666",
   "metadata": {},
   "outputs": [
    {
     "data": {
      "text/plain": [
       "[1, 2, 3, 4, 5, 6, 7, 8, 9]"
      ]
     },
     "execution_count": 31,
     "metadata": {},
     "output_type": "execute_result"
    }
   ],
   "source": [
    "x=[1,3,2,5,4,7,8,6,9,]\n",
    "x.sort()\n",
    "x"
   ]
  },
  {
   "cell_type": "markdown",
   "id": "0a30a804-da35-4a2a-b0a4-e8cf68ee0b18",
   "metadata": {},
   "source": [
    "# Demo:1.2:\n",
    "\n",
    "Even term median:\n",
    "    \n",
    "    Formula: median=((n/2)th+((n/2)th)/2\n",
    "                     \n",
    "        where:\n",
    "                     \n",
    "        n= number of terms\n",
    "                     \n",
    "        th=term             \n"
   ]
  },
  {
   "cell_type": "code",
   "execution_count": 35,
   "id": "6194411f-5b44-460f-aa77-c1583dc3f5d8",
   "metadata": {},
   "outputs": [
    {
     "data": {
      "text/plain": [
       "10"
      ]
     },
     "execution_count": 35,
     "metadata": {},
     "output_type": "execute_result"
    }
   ],
   "source": [
    "y=[0,1,2,3,4,5,6,7,8,9 ]\n",
    "len(y)"
   ]
  },
  {
   "cell_type": "code",
   "execution_count": 48,
   "id": "b7af85ba-316d-4711-a990-c604f6c3fe56",
   "metadata": {},
   "outputs": [
    {
     "name": "stdout",
     "output_type": "stream",
     "text": [
      "[0, 1, 2, 3, 4, 5, 6, 7, 8, 9]\n",
      "10\n"
     ]
    }
   ],
   "source": [
    "z=[3,4,2,6,7,8,9,1,5,0]\n",
    "z.sort()\n",
    "print(z)\n",
    "print(len(z))"
   ]
  },
  {
   "cell_type": "code",
   "execution_count": 56,
   "id": "c6c70122-d6b5-4bfb-9cea-c2f03e57bbef",
   "metadata": {},
   "outputs": [],
   "source": [
    "def mymedian(n):\n",
    "    if type(n)==tuple:\n",
    "        n=list(n)\n",
    "        n.sort()\n",
    "    else:\n",
    "        n.sort()\n",
    "    \n",
    "    print((n[(len(n)//2)-1]+n[((len(n)//2)+1)-1])/2)"
   ]
  },
  {
   "cell_type": "code",
   "execution_count": 57,
   "id": "04963521-3895-43b0-a8a0-c272cd8a1a1c",
   "metadata": {},
   "outputs": [
    {
     "name": "stdout",
     "output_type": "stream",
     "text": [
      "4.5\n"
     ]
    }
   ],
   "source": [
    "mymedian(z)"
   ]
  },
  {
   "cell_type": "markdown",
   "id": "5a28fecd-7155-4782-af47-f515da80a8ab",
   "metadata": {},
   "source": [
    "# Demo:1.3:\n",
    "  Even median caculation using statistics module  of python "
   ]
  },
  {
   "cell_type": "code",
   "execution_count": 58,
   "id": "77420257-8ef1-46c3-a5e4-323eb2a4f4fe",
   "metadata": {},
   "outputs": [
    {
     "data": {
      "text/plain": [
       "3.5"
      ]
     },
     "execution_count": 58,
     "metadata": {},
     "output_type": "execute_result"
    }
   ],
   "source": [
    "z=[1,2,3,4,5,6]  # Even median\n",
    "s.median(z)"
   ]
  },
  {
   "cell_type": "code",
   "execution_count": 59,
   "id": "04e877d4-4205-40f3-bcae-29840dad8441",
   "metadata": {},
   "outputs": [
    {
     "data": {
      "text/plain": [
       "3"
      ]
     },
     "execution_count": 59,
     "metadata": {},
     "output_type": "execute_result"
    }
   ],
   "source": [
    "x=[1,2,3,4,5]   # odd median\n",
    "s.median(x)"
   ]
  },
  {
   "cell_type": "markdown",
   "id": "76047451-91d8-461a-8b0a-377af2ec35d2",
   "metadata": {},
   "source": [
    "# Why median:-\n",
    "   Median helps us to get the understanding\n",
    "    of data Disbution "
   ]
  },
  {
   "cell_type": "markdown",
   "id": "7f0c4fd7-e26e-4b42-a899-890103bb3e8b",
   "metadata": {},
   "source": [
    "# Mode:\n",
    "\n",
    " help to get hoghest occuring value in the dataset "
   ]
  },
  {
   "cell_type": "code",
   "execution_count": 66,
   "id": "3452c040-6d50-419f-a06f-abb3f67088b9",
   "metadata": {},
   "outputs": [],
   "source": [
    "m=[2,3,3,4,4,5,6,6,7]\n"
   ]
  },
  {
   "cell_type": "code",
   "execution_count": null,
   "id": "e30d071f-d477-497c-9597-5a055aec2850",
   "metadata": {},
   "outputs": [],
   "source": []
  },
  {
   "cell_type": "markdown",
   "id": "577a67d1-89a1-4258-b818-a9dc8ba2f503",
   "metadata": {},
   "source": [
    " # The most Frequent number:-\n",
    "    \n",
    "    That is the number that occurs the highest number of times."
   ]
  },
  {
   "cell_type": "code",
   "execution_count": 64,
   "id": "5c63168d-bd9a-4c04-8467-fb0ca09d3df7",
   "metadata": {},
   "outputs": [
    {
     "data": {
      "text/plain": [
       "3"
      ]
     },
     "execution_count": 64,
     "metadata": {},
     "output_type": "execute_result"
    }
   ],
   "source": [
    "m=[2,3,3,4,4,5,5,6,6,7,8]\n",
    "s.mode(m)"
   ]
  },
  {
   "cell_type": "code",
   "execution_count": 65,
   "id": "843a1649-b673-476d-971d-6f4c01d657ce",
   "metadata": {},
   "outputs": [
    {
     "data": {
      "text/plain": [
       "[3, 4, 5, 6]"
      ]
     },
     "execution_count": 65,
     "metadata": {},
     "output_type": "execute_result"
    }
   ],
   "source": [
    "s.multimode(m)"
   ]
  },
  {
   "cell_type": "markdown",
   "id": "25c03a15-f67d-456c-b1de-6c49405f71b8",
   "metadata": {},
   "source": [
    " # Quantiles:-\n",
    "              Quantiles are values that separate the data into Four equal Parts."
   ]
  },
  {
   "cell_type": "code",
   "execution_count": 2,
   "id": "ec334a33-eb80-4839-abbb-3b01913693b0",
   "metadata": {},
   "outputs": [],
   "source": [
    "import statistics as s"
   ]
  },
  {
   "cell_type": "code",
   "execution_count": 3,
   "id": "80a1660a-b010-4291-80b8-cde4a14cd0d0",
   "metadata": {},
   "outputs": [],
   "source": [
    "x=[1,2,3,4,5,6,7,8]"
   ]
  },
  {
   "cell_type": "code",
   "execution_count": 4,
   "id": "4c7f2123-a708-4d96-8f36-7773ec32006b",
   "metadata": {},
   "outputs": [
    {
     "data": {
      "text/plain": [
       "[2.25, 4.5, 6.75]"
      ]
     },
     "execution_count": 4,
     "metadata": {},
     "output_type": "execute_result"
    }
   ],
   "source": [
    "s.quantiles(x)"
   ]
  },
  {
   "cell_type": "code",
   "execution_count": 5,
   "id": "ce80b01e-7065-4d22-ae08-82bf30850f32",
   "metadata": {},
   "outputs": [
    {
     "data": {
      "text/plain": [
       "[2.0, 3.12, 6.175]"
      ]
     },
     "execution_count": 5,
     "metadata": {},
     "output_type": "execute_result"
    }
   ],
   "source": [
    "y=[2,2,3,3.24,6,6.7]\n",
    "s.quantiles(y)"
   ]
  },
  {
   "cell_type": "code",
   "execution_count": 6,
   "id": "2bd4e394-8464-454e-b67e-0b2e0a21835b",
   "metadata": {},
   "outputs": [
    {
     "data": {
      "text/plain": [
       "[2.25, 4.62, 7.525]"
      ]
     },
     "execution_count": 6,
     "metadata": {},
     "output_type": "execute_result"
    }
   ],
   "source": [
    "y=[2,2,3,3.24,6,6.1,8,8.1]\n",
    "s.quantiles(y)"
   ]
  },
  {
   "cell_type": "code",
   "execution_count": 10,
   "id": "19465c25-8d41-4c10-a1b9-e4a348fe2102",
   "metadata": {},
   "outputs": [],
   "source": [
    "q1,q2,q3=s.quantiles(y)"
   ]
  },
  {
   "cell_type": "code",
   "execution_count": 11,
   "id": "9c195d52-fb34-45eb-8069-f50924953212",
   "metadata": {},
   "outputs": [
    {
     "data": {
      "text/plain": [
       "2.25"
      ]
     },
     "execution_count": 11,
     "metadata": {},
     "output_type": "execute_result"
    }
   ],
   "source": [
    "q1"
   ]
  },
  {
   "cell_type": "code",
   "execution_count": 12,
   "id": "624720e7-d4b3-4131-b008-be405ed05405",
   "metadata": {},
   "outputs": [
    {
     "data": {
      "text/plain": [
       "4.62"
      ]
     },
     "execution_count": 12,
     "metadata": {},
     "output_type": "execute_result"
    }
   ],
   "source": [
    "q2"
   ]
  },
  {
   "cell_type": "code",
   "execution_count": 13,
   "id": "0c8c5b1a-c0db-4eda-91dc-c236fa9593c9",
   "metadata": {},
   "outputs": [
    {
     "data": {
      "text/plain": [
       "7.525"
      ]
     },
     "execution_count": 13,
     "metadata": {},
     "output_type": "execute_result"
    }
   ],
   "source": [
    "q3"
   ]
  },
  {
   "cell_type": "markdown",
   "id": "c7a54855-b1d7-4eed-ab72-17ef28aae57e",
   "metadata": {},
   "source": [
    " # IQR:-(inter quartile Range)\n",
    "        Formula;-(Q3-Q3)"
   ]
  },
  {
   "cell_type": "code",
   "execution_count": 15,
   "id": "29459e9f-7e6c-4753-ad06-8ba41a58fe2c",
   "metadata": {},
   "outputs": [
    {
     "name": "stdout",
     "output_type": "stream",
     "text": [
      "5.275\n"
     ]
    }
   ],
   "source": [
    "iqr=abs(q1-q3)\n",
    "print(iqr)"
   ]
  },
  {
   "cell_type": "code",
   "execution_count": 16,
   "id": "3c119277-e9b1-4b8d-bd38-a65fbf348063",
   "metadata": {},
   "outputs": [
    {
     "name": "stdout",
     "output_type": "stream",
     "text": [
      "5.275\n"
     ]
    }
   ],
   "source": [
    "iqr=abs(q3-q1)\n",
    "print(iqr)"
   ]
  },
  {
   "cell_type": "raw",
   "id": "b7dc78e2-c484-4e8e-9626-2d0989f8d46f",
   "metadata": {},
   "source": [
    "IQR2=q3-q1\n",
    "print(IQR)"
   ]
  },
  {
   "cell_type": "markdown",
   "id": "94fe784d-d85f-4e2a-b34b-fdf14a3164f6",
   "metadata": {},
   "source": [
    "# Trend:-\n",
    "         "
   ]
  },
  {
   "cell_type": "code",
   "execution_count": 17,
   "id": "b96ff19a-7e6a-47c2-8479-a14657e77c54",
   "metadata": {},
   "outputs": [],
   "source": [
    "dataset=[-10000,100,200000,300000,2500000]\n",
    "q1,q2,q3=s.quantiles(dataset)"
   ]
  },
  {
   "cell_type": "code",
   "execution_count": 18,
   "id": "15190b05-042c-4576-915d-9432880f838c",
   "metadata": {},
   "outputs": [
    {
     "data": {
      "text/plain": [
       "[-4950.0, 200000.0, 1400000.0]"
      ]
     },
     "execution_count": 18,
     "metadata": {},
     "output_type": "execute_result"
    }
   ],
   "source": [
    "s.quantiles(dataset)"
   ]
  },
  {
   "cell_type": "markdown",
   "id": "c9a9a7c2-385a-48e1-8878-37bcf8fc7eb6",
   "metadata": {},
   "source": [
    "# There are Two types of Trend:-\n",
    "        1. MAX_Trend\n",
    "    \n",
    "        2.MIN_Trend"
   ]
  },
  {
   "cell_type": "markdown",
   "id": "97ba348f-e1de-4944-8dcb-a969b6a08a49",
   "metadata": {},
   "source": [
    "# 1.MAX_Trend:-\n",
    "             Formula:-Max_trend=q3+1.5*iqr"
   ]
  },
  {
   "cell_type": "code",
   "execution_count": 19,
   "id": "f1a7aa5e-17c6-4f9e-95ea-7574a8230fdf",
   "metadata": {},
   "outputs": [],
   "source": [
    "max_trend=q3+1.5*iqr"
   ]
  },
  {
   "cell_type": "code",
   "execution_count": 20,
   "id": "eb81b1b0-8400-43be-be53-6818f0fb8395",
   "metadata": {},
   "outputs": [
    {
     "data": {
      "text/plain": [
       "1400007.9125"
      ]
     },
     "execution_count": 20,
     "metadata": {},
     "output_type": "execute_result"
    }
   ],
   "source": [
    "max_trend"
   ]
  },
  {
   "cell_type": "markdown",
   "id": "9774dc39-d4e9-4955-a379-6e9428e5cafe",
   "metadata": {},
   "source": [
    "# 2.MIN_Trend:-\n",
    "               Formula:- min_trend=q1-1.5*iqr"
   ]
  },
  {
   "cell_type": "code",
   "execution_count": 22,
   "id": "8f9831c2-b23c-43a5-a0a5-0cc373682578",
   "metadata": {},
   "outputs": [],
   "source": [
    "min_trend=q1-1.5*iqr"
   ]
  },
  {
   "cell_type": "code",
   "execution_count": 23,
   "id": "d9b58137-adcd-48ee-a850-bc111b131ec0",
   "metadata": {},
   "outputs": [
    {
     "data": {
      "text/plain": [
       "-4957.9125"
      ]
     },
     "execution_count": 23,
     "metadata": {},
     "output_type": "execute_result"
    }
   ],
   "source": [
    "min_trend"
   ]
  },
  {
   "cell_type": "code",
   "execution_count": 24,
   "id": "98cdbe07-6e8f-421e-ad28-970d2d5cff44",
   "metadata": {},
   "outputs": [
    {
     "name": "stdout",
     "output_type": "stream",
     "text": [
      "[100, 200000, 300000]\n"
     ]
    }
   ],
   "source": [
    "filter_dataset=[]\n",
    "for i in dataset:\n",
    "    if min_trend<i<max_trend:\n",
    "        filter_dataset.append(i)\n",
    "print(filter_dataset)"
   ]
  },
  {
   "cell_type": "code",
   "execution_count": 31,
   "id": "6cc6abfb-5500-4abc-8dbc-7a54fe2bc631",
   "metadata": {},
   "outputs": [
    {
     "name": "stdout",
     "output_type": "stream",
     "text": [
      "[100, 200000, 300000]\n"
     ]
    }
   ],
   "source": [
    "filter_dataset=[]\n",
    "for i in dataset:\n",
    "    if min_trend<i and max_trend>i:\n",
    "        filter_dataset.append(i)\n",
    "print(filter_dataset)"
   ]
  },
  {
   "cell_type": "markdown",
   "id": "001983ea-7fc2-4c23-bb2e-c5b3e8fedb98",
   "metadata": {},
   "source": [
    "# Name of The tolls hold structure data:-\n",
    "1.Database:-(sql database)\n",
    "\n",
    "2.HTML Table:-(semi structure data in all)\n",
    "\n",
    "3.XML:-\n",
    "\n",
    "4.WML:-\n",
    "\n",
    "5.EXCEL:-\n",
    "\n",
    "6.MS Excess:-\n",
    "\n"
   ]
  },
  {
   "cell_type": "markdown",
   "id": "03fe719d-741e-40d7-b1d9-d6dec2030891",
   "metadata": {},
   "source": [
    "#  Unstructure Data :-\n",
    "                 A Dataset which has no level of it column called Unstructured Data\n",
    "Tolls:- Numpy (Develop in 2005 for built in c++ Language)"
   ]
  },
  {
   "cell_type": "markdown",
   "id": "b8986c2c-a23f-41a5-88b3-37d2a70a86e9",
   "metadata": {},
   "source": [
    "# Numpy Download:\n",
    "               python.org(numpy) pip install Numpy"
   ]
  },
  {
   "cell_type": "code",
   "execution_count": 32,
   "id": "e1d6d075-4804-4500-8df2-05d02d5c0625",
   "metadata": {},
   "outputs": [
    {
     "name": "stdout",
     "output_type": "stream",
     "text": [
      "Defaulting to user installation because normal site-packages is not writeable\n",
      "Requirement already satisfied: numpy in c:\\programdata\\anaconda3\\lib\\site-packages (1.21.5)\n",
      "Note: you may need to restart the kernel to use updated packages.\n"
     ]
    }
   ],
   "source": [
    "pip install numpy"
   ]
  },
  {
   "cell_type": "code",
   "execution_count": 33,
   "id": "f5f5e0ef-b4e2-41db-b0d0-3458ea3884e1",
   "metadata": {},
   "outputs": [],
   "source": [
    "import numpy as np"
   ]
  },
  {
   "cell_type": "code",
   "execution_count": 34,
   "id": "537c22a0-9723-4f68-9c7b-e2780ba52e9e",
   "metadata": {},
   "outputs": [
    {
     "data": {
      "text/plain": [
       "array([1, 2, 3, 4, 5, 6, 7, 8])"
      ]
     },
     "execution_count": 34,
     "metadata": {},
     "output_type": "execute_result"
    }
   ],
   "source": [
    "np.array([1,2,3,4,5,6,7,8])\n"
   ]
  },
  {
   "cell_type": "code",
   "execution_count": 35,
   "id": "f32d95dc-a88e-4a1e-9532-71f4d603896f",
   "metadata": {},
   "outputs": [
    {
     "data": {
      "text/plain": [
       "array([1, 2, 3, 4, 5, 6, 7, 8])"
      ]
     },
     "execution_count": 35,
     "metadata": {},
     "output_type": "execute_result"
    }
   ],
   "source": [
    "a=np.array([1,2,3,4,5,6,7,8])\n",
    "a"
   ]
  },
  {
   "cell_type": "code",
   "execution_count": 36,
   "id": "d485c416-ec90-4e65-aa7d-6309721d245e",
   "metadata": {},
   "outputs": [
    {
     "name": "stdout",
     "output_type": "stream",
     "text": [
      "[1 2 3 4 5 6 7 8]\n"
     ]
    }
   ],
   "source": [
    "print(a)"
   ]
  },
  {
   "cell_type": "code",
   "execution_count": 37,
   "id": "86437929-4fba-4d90-91fc-2bdda751b597",
   "metadata": {},
   "outputs": [
    {
     "name": "stdout",
     "output_type": "stream",
     "text": [
      "[1, 2, 3]\n"
     ]
    }
   ],
   "source": [
    "b=[1,2,3]\n",
    "print(b)"
   ]
  },
  {
   "cell_type": "code",
   "execution_count": 39,
   "id": "731167bc-9623-4daa-a124-814a26543e47",
   "metadata": {},
   "outputs": [
    {
     "name": "stdout",
     "output_type": "stream",
     "text": [
      "['1' 'deepak' '1.4']\n"
     ]
    }
   ],
   "source": [
    "c=np.array([1,\"deepak\",1.4])\n",
    "print(c)"
   ]
  },
  {
   "cell_type": "code",
   "execution_count": 41,
   "id": "b5d21383-f5ba-4c1c-8ef5-ca2c2bb6544d",
   "metadata": {},
   "outputs": [
    {
     "data": {
      "text/plain": [
       "array(['1', 'deepak', '1.4'], dtype='<U32')"
      ]
     },
     "execution_count": 41,
     "metadata": {},
     "output_type": "execute_result"
    }
   ],
   "source": [
    "c=np.array([1,\"deepak\",1.4])\n",
    "c"
   ]
  },
  {
   "cell_type": "code",
   "execution_count": 48,
   "id": "31a238a2-4d1b-41a2-8708-294f3d99fa3c",
   "metadata": {},
   "outputs": [
    {
     "name": "stdout",
     "output_type": "stream",
     "text": [
      "[1.  2.4]\n"
     ]
    }
   ],
   "source": [
    "e=np.array([1,2.4])\n",
    "print(e)"
   ]
  },
  {
   "cell_type": "code",
   "execution_count": 65,
   "id": "8b7ed4b2-a409-47f6-bad9-58a7172dfae5",
   "metadata": {},
   "outputs": [
    {
     "name": "stdout",
     "output_type": "stream",
     "text": [
      "[1 2 3 6]\n"
     ]
    }
   ],
   "source": [
    "f=np.array([1,2,3,\"6\"],dtype=np.int8)  # convert to int\n",
    "print(f)\n"
   ]
  },
  {
   "cell_type": "code",
   "execution_count": 66,
   "id": "c61b0765-c0c5-41cc-991e-7ba289b2fffd",
   "metadata": {},
   "outputs": [],
   "source": [
    "e=np.array([1,2,\"3.4\"],dtype=np.float16)    # convert to float"
   ]
  },
  {
   "cell_type": "code",
   "execution_count": 67,
   "id": "01af4a93-c041-4eee-b61a-6a1a95c288c6",
   "metadata": {},
   "outputs": [
    {
     "name": "stdout",
     "output_type": "stream",
     "text": [
      "[1.  2.  3.4]\n"
     ]
    }
   ],
   "source": [
    "print(e)"
   ]
  },
  {
   "cell_type": "code",
   "execution_count": 68,
   "id": "0a092d08-7bc0-4c3b-85ca-c821c121b0e9",
   "metadata": {},
   "outputs": [
    {
     "data": {
      "text/plain": [
       "'0b1010'"
      ]
     },
     "execution_count": 68,
     "metadata": {},
     "output_type": "execute_result"
    }
   ],
   "source": [
    "bin(10)    # convert to byte "
   ]
  },
  {
   "cell_type": "code",
   "execution_count": 69,
   "id": "c86aebad-723d-4c51-b8dc-30a3c20c1409",
   "metadata": {},
   "outputs": [
    {
     "data": {
      "text/plain": [
       "3"
      ]
     },
     "execution_count": 69,
     "metadata": {},
     "output_type": "execute_result"
    }
   ],
   "source": [
    "max(np.array([1,2,3]))"
   ]
  },
  {
   "cell_type": "code",
   "execution_count": 72,
   "id": "0142363d-6b9d-42e7-8a48-a4523b3aabd6",
   "metadata": {},
   "outputs": [
    {
     "data": {
      "text/plain": [
       "2"
      ]
     },
     "execution_count": 72,
     "metadata": {},
     "output_type": "execute_result"
    }
   ],
   "source": [
    "min(np.array([2,5,8]))"
   ]
  },
  {
   "cell_type": "code",
   "execution_count": 70,
   "id": "a94c4509-3873-4ea9-a4b5-28c20ec51d10",
   "metadata": {},
   "outputs": [
    {
     "name": "stdout",
     "output_type": "stream",
     "text": [
      "[1. 2. 3. 5.]\n",
      "[1 2 3 5]\n"
     ]
    }
   ],
   "source": [
    "f=np.array([1,2,3,\"5\"],dtype=np.float16)  # convert to float\n",
    "print(f)\n",
    "g=np.array(f,dtype=np.int16)      # convert to integer\n",
    "print(g)"
   ]
  },
  {
   "cell_type": "code",
   "execution_count": 74,
   "id": "bd74c76d-47ea-49ea-b66a-4288bfe5f2f0",
   "metadata": {},
   "outputs": [
    {
     "name": "stdout",
     "output_type": "stream",
     "text": [
      "['3' '7' '9' '8']\n"
     ]
    }
   ],
   "source": [
    "h=np.array([3,7,9,8],dtype=np.str_)   # convert to String\n",
    "print(h)"
   ]
  },
  {
   "cell_type": "markdown",
   "id": "90bf84ae-c44d-4adc-8683-8c658720d4d4",
   "metadata": {},
   "source": [
    "# There are Three Types of Array:\n",
    "1.Scaler:-(mangnitude)\n",
    "\n",
    "2.Vector:-(mangnitude & direction)\n",
    "\n",
    "3.Matrix:-"
   ]
  },
  {
   "cell_type": "markdown",
   "id": "5980f31d-e6a5-47a0-abb2-27a1859b0df3",
   "metadata": {},
   "source": [
    "# 1.Scaler:-\n",
    "          A Value Which has not 0 dimension\n",
    "    \n",
    "    "
   ]
  },
  {
   "cell_type": "code",
   "execution_count": 77,
   "id": "af93357b-b7aa-4cff-be32-36dd8bb275a8",
   "metadata": {},
   "outputs": [
    {
     "name": "stdout",
     "output_type": "stream",
     "text": [
      "100\n"
     ]
    },
    {
     "data": {
      "text/plain": [
       "array(100)"
      ]
     },
     "execution_count": 77,
     "metadata": {},
     "output_type": "execute_result"
    }
   ],
   "source": [
    "i=np.array(100)   # Scaler array which has no dimension or 0 dimension\n",
    "print(i)\n",
    "i"
   ]
  },
  {
   "cell_type": "markdown",
   "id": "26e0da3c-f974-426e-b304-28d4a3f16e17",
   "metadata": {},
   "source": [
    "# 2.Vector:-\n",
    "            1 Dimensional array of vector "
   ]
  },
  {
   "cell_type": "code",
   "execution_count": 80,
   "id": "65a0376d-0a1f-47bc-99df-54509a0ca6c7",
   "metadata": {},
   "outputs": [
    {
     "name": "stdout",
     "output_type": "stream",
     "text": [
      "[100]\n"
     ]
    },
    {
     "data": {
      "text/plain": [
       "array([100])"
      ]
     },
     "execution_count": 80,
     "metadata": {},
     "output_type": "execute_result"
    }
   ],
   "source": [
    "j=np.array([100])   # 1 Dimensional array of Vector\n",
    "print(j)\n",
    "j"
   ]
  },
  {
   "cell_type": "markdown",
   "id": "06e29971-8426-47c0-82fc-5360ebf9ab2b",
   "metadata": {},
   "source": [
    "# 3.Matrix:-\n",
    "          2D array called matrix"
   ]
  },
  {
   "cell_type": "code",
   "execution_count": 86,
   "id": "8223d96e-50b0-4870-be64-a435a7a5036a",
   "metadata": {},
   "outputs": [
    {
     "name": "stdout",
     "output_type": "stream",
     "text": [
      "[[2 3]\n",
      " [6 7]]\n"
     ]
    },
    {
     "data": {
      "text/plain": [
       "array([[2, 3],\n",
       "       [6, 7]])"
      ]
     },
     "execution_count": 86,
     "metadata": {},
     "output_type": "execute_result"
    }
   ],
   "source": [
    "k=np.array([[2,3],[6,7]])   # 2D array\n",
    "print(k)\n",
    "k"
   ]
  },
  {
   "cell_type": "code",
   "execution_count": 89,
   "id": "c5a502fd-46e0-4dba-9606-7d572b8b364e",
   "metadata": {},
   "outputs": [
    {
     "name": "stdout",
     "output_type": "stream",
     "text": [
      "[[[100]]]\n"
     ]
    },
    {
     "data": {
      "text/plain": [
       "array([[[100]]])"
      ]
     },
     "execution_count": 89,
     "metadata": {},
     "output_type": "execute_result"
    }
   ],
   "source": [
    "l=np.array([[[100]]])     # 3D array\n",
    "print(l)\n",
    "l"
   ]
  },
  {
   "cell_type": "code",
   "execution_count": 96,
   "id": "c08e7536-9a11-41a3-8c69-78eb411b13ca",
   "metadata": {},
   "outputs": [
    {
     "name": "stdout",
     "output_type": "stream",
     "text": [
      "[[[0 9]\n",
      "  [6 7]]\n",
      "\n",
      " [[8 5]\n",
      "  [2 1]]]\n"
     ]
    },
    {
     "data": {
      "text/plain": [
       "3"
      ]
     },
     "execution_count": 96,
     "metadata": {},
     "output_type": "execute_result"
    }
   ],
   "source": [
    "l=np.array([[[0,9],[6,7]],[[8,5],[2,1]]])  # 3D array\n",
    "print(l)\n",
    "l\n",
    "l.ndim"
   ]
  },
  {
   "cell_type": "markdown",
   "id": "27cbeb50-6bfa-4c47-82fe-6a70d31ce951",
   "metadata": {},
   "source": [
    "# ndim:-\n",
    "       Number of Dimension"
   ]
  },
  {
   "cell_type": "code",
   "execution_count": 98,
   "id": "3df240f9-6876-4e9b-94ed-646610cabc78",
   "metadata": {},
   "outputs": [
    {
     "data": {
      "text/plain": [
       "array(['video game', 'computer', 'turn card'], dtype='<U10')"
      ]
     },
     "execution_count": 98,
     "metadata": {},
     "output_type": "execute_result"
    }
   ],
   "source": [
    "toy=np.array([\"video game\",\"computer\",\"turn card\"])\n",
    "toy"
   ]
  },
  {
   "cell_type": "code",
   "execution_count": 99,
   "id": "f877580a-976c-4e88-9773-64cdf51e5465",
   "metadata": {},
   "outputs": [
    {
     "data": {
      "text/plain": [
       "array([['1', 'A', '23', '60'],\n",
       "       ['2', 'B', '22', '50'],\n",
       "       ['3', 'C', '34', '78']], dtype='<U11')"
      ]
     },
     "execution_count": 99,
     "metadata": {},
     "output_type": "execute_result"
    }
   ],
   "source": [
    "marks=np.array([[1,'A',23,60],[2,'B',22,50],[3,'C',34,78]]);\n",
    "marks"
   ]
  },
  {
   "cell_type": "markdown",
   "id": "5550310f-f323-4b71-b816-d2b308476508",
   "metadata": {},
   "source": [
    " # 3D:-\n",
    "     image store"
   ]
  },
  {
   "cell_type": "code",
   "execution_count": 5,
   "id": "1e3acfb4-9283-41a9-ac4f-b74c7d94c2b6",
   "metadata": {},
   "outputs": [
    {
     "ename": "ModuleNotFoundError",
     "evalue": "No module named 'cv2'",
     "output_type": "error",
     "traceback": [
      "\u001b[1;31m---------------------------------------------------------------------------\u001b[0m",
      "\u001b[1;31mModuleNotFoundError\u001b[0m                       Traceback (most recent call last)",
      "\u001b[1;32m~\\AppData\\Local\\Temp\\ipykernel_816\\571303353.py\u001b[0m in \u001b[0;36m<module>\u001b[1;34m\u001b[0m\n\u001b[1;32m----> 1\u001b[1;33m \u001b[1;32mimport\u001b[0m \u001b[0mcv2\u001b[0m\u001b[1;33m\u001b[0m\u001b[1;33m\u001b[0m\u001b[0m\n\u001b[0m",
      "\u001b[1;31mModuleNotFoundError\u001b[0m: No module named 'cv2'"
     ]
    }
   ],
   "source": [
    "import cv2"
   ]
  },
  {
   "cell_type": "code",
   "execution_count": 2,
   "id": "357f6878-b123-4647-8f87-329204accd0d",
   "metadata": {},
   "outputs": [
    {
     "ename": "SyntaxError",
     "evalue": "(unicode error) 'unicodeescape' codec can't decode bytes in position 2-3: truncated \\UXXXXXXXX escape (4153321437.py, line 3)",
     "output_type": "error",
     "traceback": [
      "\u001b[1;36m  File \u001b[1;32m\"C:\\Users\\DELL\\AppData\\Local\\Temp\\ipykernel_816\\4153321437.py\"\u001b[1;36m, line \u001b[1;32m3\u001b[0m\n\u001b[1;33m    cv2.imread(\"C:\\Users\\DELL\\Desktop/cute.jpg\")\u001b[0m\n\u001b[1;37m                                               ^\u001b[0m\n\u001b[1;31mSyntaxError\u001b[0m\u001b[1;31m:\u001b[0m (unicode error) 'unicodeescape' codec can't decode bytes in position 2-3: truncated \\UXXXXXXXX escape\n"
     ]
    }
   ],
   "source": [
    "import cv2\n",
    "print(img)\n",
    "cv2.imread(\"C:\\Users\\DELL\\Desktop/cute.jpg\")\n",
    "cv2.imsho('win'img)\n",
    "cv2.waitkey()\n",
    "cv2.destroy all windows()"
   ]
  },
  {
   "cell_type": "markdown",
   "id": "485f7b80-402f-412d-bd0b-4a1e5f4f042f",
   "metadata": {},
   "source": [
    "# Application Array:-\n",
    "1.0D:-22(mangnitude)\n",
    "\n",
    "2.1D:-To create list\n",
    "\n",
    "3.2D:-To store tabular data\n",
    "\n",
    "4.3D:-3D array used to store image\n",
    "\n",
    "5.4D:-To store video"
   ]
  },
  {
   "cell_type": "code",
   "execution_count": 21,
   "id": "edcbc84c-365b-477b-8123-0c0d1e13b841",
   "metadata": {},
   "outputs": [
    {
     "name": "stdout",
     "output_type": "stream",
     "text": [
      "[0, 1, 2, 3, 4, 5, 6, 7, 8, 9, 10, 11, 12, 13, 14, 15, 16, 17, 18, 19, 20, 21, 22, 23, 24, 25, 26, 27, 28, 29, 30, 31, 32, 33, 34, 35, 36, 37, 38, 39, 40, 41, 42, 43, 44, 45, 46, 47, 48, 49, 50, 51, 52, 53, 54, 55, 56, 57, 58, 59, 60, 61, 62, 63, 64, 65, 66, 67, 68, 69, 70, 71, 72, 73, 74, 75, 76, 77, 78, 79, 80, 81, 82, 83, 84, 85, 86, 87, 88, 89, 90, 91, 92, 93, 94, 95, 96, 97, 98, 99]\n"
     ]
    }
   ],
   "source": [
    "demo1=[i for i in range(100)]\n",
    "print(demo1)"
   ]
  },
  {
   "cell_type": "code",
   "execution_count": 22,
   "id": "f3c20839-b0ef-4b3f-9d29-39a9380795ab",
   "metadata": {},
   "outputs": [],
   "source": [
    " import numpy as np"
   ]
  },
  {
   "cell_type": "code",
   "execution_count": 23,
   "id": "46259784-e002-4239-878c-e76e3021832d",
   "metadata": {},
   "outputs": [
    {
     "name": "stdout",
     "output_type": "stream",
     "text": [
      "[ 0  1  2  3  4  5  6  7  8  9 10 11 12 13 14 15 16 17 18 19 20 21 22 23\n",
      " 24 25 26 27 28 29 30 31 32 33 34 35 36 37 38 39 40 41 42 43 44 45 46 47\n",
      " 48 49 50 51 52 53 54 55 56 57 58 59 60 61 62 63 64 65 66 67 68 69 70 71\n",
      " 72 73 74 75 76 77 78 79 80 81 82 83 84 85 86 87 88 89 90 91 92 93 94 95\n",
      " 96 97 98 99]\n"
     ]
    }
   ],
   "source": [
    "demo2=np.array([i for i in range (100)])\n",
    "print(demo2)"
   ]
  },
  {
   "cell_type": "markdown",
   "id": "b80f7193-a759-4e69-ab4b-6f5cd837dc32",
   "metadata": {},
   "source": [
    "# Array is Faster than list:"
   ]
  },
  {
   "cell_type": "code",
   "execution_count": 24,
   "id": "b3ac90b2-d4c4-4d8b-bc02-02707b891b7e",
   "metadata": {},
   "outputs": [
    {
     "data": {
      "text/plain": [
       "920"
      ]
     },
     "execution_count": 24,
     "metadata": {},
     "output_type": "execute_result"
    }
   ],
   "source": [
    "import sys\n",
    "sys.getsizeof(demo1)"
   ]
  },
  {
   "cell_type": "code",
   "execution_count": 25,
   "id": "c32081f8-e134-436c-882b-b87a82c77269",
   "metadata": {},
   "outputs": [
    {
     "data": {
      "text/plain": [
       "504"
      ]
     },
     "execution_count": 25,
     "metadata": {},
     "output_type": "execute_result"
    }
   ],
   "source": [
    "sys.getsizeof(demo2)"
   ]
  },
  {
   "cell_type": "code",
   "execution_count": 30,
   "id": "328a14b1-c317-4775-9a58-de9fa9c0cc84",
   "metadata": {},
   "outputs": [
    {
     "data": {
      "text/plain": [
       "3"
      ]
     },
     "execution_count": 30,
     "metadata": {},
     "output_type": "execute_result"
    }
   ],
   "source": [
    "np.random.randint(1,10)   # change in value "
   ]
  },
  {
   "cell_type": "code",
   "execution_count": 33,
   "id": "14d82acd-eb68-4e41-8b58-d4c816a70005",
   "metadata": {},
   "outputs": [
    {
     "data": {
      "text/plain": [
       "array([5, 8, 3, 7, 6])"
      ]
     },
     "execution_count": 33,
     "metadata": {},
     "output_type": "execute_result"
    }
   ],
   "source": [
    "np.random.randint(1,10,5)"
   ]
  },
  {
   "cell_type": "code",
   "execution_count": 36,
   "id": "892d292e-5fe7-4eb3-af26-f1a45301a7b0",
   "metadata": {},
   "outputs": [
    {
     "data": {
      "text/plain": [
       "array([[2, 2, 1, 6, 3],\n",
       "       [4, 2, 7, 5, 1],\n",
       "       [8, 8, 1, 7, 4]])"
      ]
     },
     "execution_count": 36,
     "metadata": {},
     "output_type": "execute_result"
    }
   ],
   "source": [
    "np.random.randint(1,10,(3,5))"
   ]
  },
  {
   "cell_type": "code",
   "execution_count": 39,
   "id": "f07e76e2-9454-4c20-9072-625d4bdee9d0",
   "metadata": {},
   "outputs": [
    {
     "data": {
      "text/plain": [
       "array([[[2, 4],\n",
       "        [7, 6],\n",
       "        [6, 9]],\n",
       "\n",
       "       [[2, 6],\n",
       "        [8, 6],\n",
       "        [3, 4]],\n",
       "\n",
       "       [[9, 7],\n",
       "        [7, 2],\n",
       "        [6, 8]]])"
      ]
     },
     "execution_count": 39,
     "metadata": {},
     "output_type": "execute_result"
    }
   ],
   "source": [
    "np.random.randint(1,10,(3,3,2))"
   ]
  },
  {
   "cell_type": "code",
   "execution_count": 44,
   "id": "6e97a49e-057c-4051-93c1-2ae150bf628d",
   "metadata": {},
   "outputs": [
    {
     "data": {
      "text/plain": [
       "array([8.77150003, 5.05046738])"
      ]
     },
     "execution_count": 44,
     "metadata": {},
     "output_type": "execute_result"
    }
   ],
   "source": [
    "np.random.uniform(1,10,2)    # float value"
   ]
  },
  {
   "cell_type": "code",
   "execution_count": 45,
   "id": "1f77a3ba-dc47-4bc7-9846-979fd1e1f4a5",
   "metadata": {},
   "outputs": [
    {
     "data": {
      "text/plain": [
       "array([ 1.,  2.,  3.,  4.,  5.,  6.,  7.,  8.,  9., 10.])"
      ]
     },
     "execution_count": 45,
     "metadata": {},
     "output_type": "execute_result"
    }
   ],
   "source": [
    "np.linspace(1,10,10)"
   ]
  },
  {
   "cell_type": "code",
   "execution_count": 51,
   "id": "8e39188b-bd99-45ed-b5b3-a031e153daf5",
   "metadata": {},
   "outputs": [
    {
     "data": {
      "text/plain": [
       "array([0. , 0.5, 1. , 1.5, 2. , 2.5, 3. , 3.5, 4. , 4.5, 5. , 5.5, 6. ,\n",
       "       6.5, 7. , 7.5, 8. , 8.5, 9. , 9.5])"
      ]
     },
     "execution_count": 51,
     "metadata": {},
     "output_type": "execute_result"
    }
   ],
   "source": [
    "np.linspace(0,9.5,20)   # uniformly equil distance data create using linspace between two point start and end head are inclusive"
   ]
  },
  {
   "cell_type": "code",
   "execution_count": 52,
   "id": "79edcb08-fe5b-4955-a7a3-3f0c2d115c5f",
   "metadata": {},
   "outputs": [
    {
     "data": {
      "text/plain": [
       "array([0, 1, 2, 3, 4, 5, 6, 7, 8, 9])"
      ]
     },
     "execution_count": 52,
     "metadata": {},
     "output_type": "execute_result"
    }
   ],
   "source": [
    "np.arange(10)"
   ]
  },
  {
   "cell_type": "markdown",
   "id": "d58dffa1-7bff-48b4-8b64-7fafc3108f40",
   "metadata": {},
   "source": [
    "# flatten"
   ]
  },
  {
   "cell_type": "code",
   "execution_count": 56,
   "id": "b1511602-0122-47ef-8777-d0459e8d8b29",
   "metadata": {},
   "outputs": [
    {
     "name": "stdout",
     "output_type": "stream",
     "text": [
      "[[6 4]\n",
      " [6 1]\n",
      " [7 8]]\n"
     ]
    }
   ],
   "source": [
    "x=np.random.randint(1,10,(3,2))\n",
    "print(x)"
   ]
  },
  {
   "cell_type": "code",
   "execution_count": 58,
   "id": "b6f725b1-cac2-4426-a766-974f4eca10f9",
   "metadata": {},
   "outputs": [
    {
     "data": {
      "text/plain": [
       "array([6, 4, 6, 1, 7, 8])"
      ]
     },
     "execution_count": 58,
     "metadata": {},
     "output_type": "execute_result"
    }
   ],
   "source": [
    "x.flatten()   # 2D array convert 1D array"
   ]
  },
  {
   "cell_type": "code",
   "execution_count": 59,
   "id": "76ecdf4e-1470-4e2b-9db3-c0143789203c",
   "metadata": {},
   "outputs": [],
   "source": [
    "x.resize((2,3))   # parament change"
   ]
  },
  {
   "cell_type": "code",
   "execution_count": 60,
   "id": "4b131fe4-c111-44c2-8977-68d381aab232",
   "metadata": {},
   "outputs": [
    {
     "data": {
      "text/plain": [
       "array([[6, 4, 6],\n",
       "       [1, 7, 8]])"
      ]
     },
     "execution_count": 60,
     "metadata": {},
     "output_type": "execute_result"
    }
   ],
   "source": [
    "x"
   ]
  },
  {
   "cell_type": "code",
   "execution_count": 64,
   "id": "0c09c8f1-7778-41f6-b2a2-e2455d9e849a",
   "metadata": {},
   "outputs": [
    {
     "data": {
      "text/plain": [
       "array([[2, 4],\n",
       "       [3, 3],\n",
       "       [4, 4]])"
      ]
     },
     "execution_count": 64,
     "metadata": {},
     "output_type": "execute_result"
    }
   ],
   "source": [
    "z=np.random.randint(1,5,(3,2))\n",
    "z"
   ]
  },
  {
   "cell_type": "code",
   "execution_count": 66,
   "id": "666119a6-5d56-4352-a8bc-06ceba2795ee",
   "metadata": {},
   "outputs": [
    {
     "data": {
      "text/plain": [
       "array([2, 4, 3, 3, 4, 4])"
      ]
     },
     "execution_count": 66,
     "metadata": {},
     "output_type": "execute_result"
    }
   ],
   "source": [
    "z.flatten()\n"
   ]
  },
  {
   "cell_type": "code",
   "execution_count": 68,
   "id": "19a67ac5-ed6a-4632-8b50-e289aec3127f",
   "metadata": {},
   "outputs": [
    {
     "data": {
      "text/plain": [
       "array([[2, 4],\n",
       "       [3, 3],\n",
       "       [4, 4]])"
      ]
     },
     "execution_count": 68,
     "metadata": {},
     "output_type": "execute_result"
    }
   ],
   "source": [
    "z.reshape((2,3))    # not parament change\n",
    "z"
   ]
  },
  {
   "cell_type": "code",
   "execution_count": 69,
   "id": "cacef5a8-ae75-41d5-a9f1-016dee07b24b",
   "metadata": {},
   "outputs": [
    {
     "data": {
      "text/plain": [
       "array([[2, 4, 3],\n",
       "       [3, 4, 4]])"
      ]
     },
     "execution_count": 69,
     "metadata": {},
     "output_type": "execute_result"
    }
   ],
   "source": [
    "z.reshape((2,3),order='F')"
   ]
  },
  {
   "cell_type": "code",
   "execution_count": 70,
   "id": "75ef040f-efa5-45a1-835d-5d976d8b66dc",
   "metadata": {},
   "outputs": [
    {
     "data": {
      "text/plain": [
       "array([[2, 4, 3],\n",
       "       [3, 4, 4]])"
      ]
     },
     "execution_count": 70,
     "metadata": {},
     "output_type": "execute_result"
    }
   ],
   "source": [
    "z.reshape((2,3),order='c')"
   ]
  },
  {
   "cell_type": "code",
   "execution_count": 73,
   "id": "d8fbad87-5a71-40c0-bac6-48ab7965e464",
   "metadata": {},
   "outputs": [
    {
     "data": {
      "text/plain": [
       "array([ 0,  1,  2,  3,  4,  5,  6,  7,  8,  9, 10, 11, 12, 13, 14, 15])"
      ]
     },
     "execution_count": 73,
     "metadata": {},
     "output_type": "execute_result"
    }
   ],
   "source": [
    "array1=np.arange(16)\n",
    "array1"
   ]
  },
  {
   "cell_type": "code",
   "execution_count": 74,
   "id": "807066c8-84ae-40b0-99cb-7be8faada7b0",
   "metadata": {},
   "outputs": [
    {
     "data": {
      "text/plain": [
       "array([[ 0,  1,  2,  3],\n",
       "       [ 4,  5,  6,  7],\n",
       "       [ 8,  9, 10, 11],\n",
       "       [12, 13, 14, 15]])"
      ]
     },
     "execution_count": 74,
     "metadata": {},
     "output_type": "execute_result"
    }
   ],
   "source": [
    "array1.reshape((4,4))"
   ]
  },
  {
   "cell_type": "code",
   "execution_count": 75,
   "id": "ba5408aa-1125-463c-baea-53dda037329b",
   "metadata": {},
   "outputs": [
    {
     "data": {
      "text/plain": [
       "array([[ 0,  1,  2,  3,  4,  5,  6,  7],\n",
       "       [ 8,  9, 10, 11, 12, 13, 14, 15]])"
      ]
     },
     "execution_count": 75,
     "metadata": {},
     "output_type": "execute_result"
    }
   ],
   "source": [
    "array1.reshape(2,-1)"
   ]
  },
  {
   "cell_type": "code",
   "execution_count": 76,
   "id": "ff0f05cb-65fd-4c51-85fc-a1cd6d537d77",
   "metadata": {},
   "outputs": [
    {
     "data": {
      "text/plain": [
       "array([[ 0,  1],\n",
       "       [ 2,  3],\n",
       "       [ 4,  5],\n",
       "       [ 6,  7],\n",
       "       [ 8,  9],\n",
       "       [10, 11],\n",
       "       [12, 13],\n",
       "       [14, 15]])"
      ]
     },
     "execution_count": 76,
     "metadata": {},
     "output_type": "execute_result"
    }
   ],
   "source": [
    "array1.reshape(-1,2)"
   ]
  },
  {
   "cell_type": "code",
   "execution_count": 82,
   "id": "acf8b392-cd88-4a7f-993a-acc822e4b1b9",
   "metadata": {},
   "outputs": [
    {
     "data": {
      "text/plain": [
       "array([[ 0,  8],\n",
       "       [ 1,  9],\n",
       "       [ 2, 10],\n",
       "       [ 3, 11],\n",
       "       [ 4, 12],\n",
       "       [ 5, 13],\n",
       "       [ 6, 14],\n",
       "       [ 7, 15]])"
      ]
     },
     "execution_count": 82,
     "metadata": {},
     "output_type": "execute_result"
    }
   ],
   "source": [
    "array1.reshape((-1,2),order='f')\n"
   ]
  },
  {
   "cell_type": "code",
   "execution_count": 85,
   "id": "2d309136-11fc-4413-bd7b-17bce916238c",
   "metadata": {},
   "outputs": [
    {
     "data": {
      "text/plain": [
       "16"
      ]
     },
     "execution_count": 85,
     "metadata": {},
     "output_type": "execute_result"
    }
   ],
   "source": [
    "len((array1.reshape(2,8).flatten()))"
   ]
  },
  {
   "cell_type": "code",
   "execution_count": 87,
   "id": "97d806b0-8406-412a-9823-ed8823a369ef",
   "metadata": {},
   "outputs": [
    {
     "data": {
      "text/plain": [
       "array([ 0,  1,  2,  3,  4,  5,  6,  7,  8,  9, 10, 11, 12, 13, 14, 15])"
      ]
     },
     "execution_count": 87,
     "metadata": {},
     "output_type": "execute_result"
    }
   ],
   "source": [
    "a=array1.flatten()\n",
    "a"
   ]
  },
  {
   "cell_type": "code",
   "execution_count": 94,
   "id": "731ca1f5-f30c-4742-a8c8-964a36fa7bed",
   "metadata": {},
   "outputs": [
    {
     "data": {
      "text/plain": [
       "array([[ 0,  1,  2,  3],\n",
       "       [ 4,  5,  6,  7],\n",
       "       [ 8,  9, 10, 11]])"
      ]
     },
     "execution_count": 94,
     "metadata": {},
     "output_type": "execute_result"
    }
   ],
   "source": [
    "a.resize((3,4),refcheck=False)\n",
    "a"
   ]
  },
  {
   "cell_type": "markdown",
   "id": "7f8e89c0-440e-4917-9bfe-c40d3d031a44",
   "metadata": {},
   "source": [
    "# Broadcasting:-"
   ]
  },
  {
   "cell_type": "code",
   "execution_count": 95,
   "id": "e0174098-02d6-4ce0-a658-0be5f65c2c33",
   "metadata": {},
   "outputs": [
    {
     "data": {
      "text/plain": [
       "[1, 2, 3, 4, 5, 4, 5, 6, 7, 8]"
      ]
     },
     "execution_count": 95,
     "metadata": {},
     "output_type": "execute_result"
    }
   ],
   "source": [
    "l1=[1,2,3,4,5]\n",
    "l2=[4,5,6,7,8]\n",
    "l1+l2"
   ]
  },
  {
   "cell_type": "markdown",
   "id": "ee887378-d78f-4e5c-8e6a-124f0453250a",
   "metadata": {},
   "source": [
    "# list broadcasting using fro loop \n",
    "Rule:-1"
   ]
  },
  {
   "cell_type": "code",
   "execution_count": 96,
   "id": "d1369265-ee60-4275-ba33-ef9525ff1b84",
   "metadata": {},
   "outputs": [
    {
     "name": "stdout",
     "output_type": "stream",
     "text": [
      "5\n",
      "7\n",
      "9\n",
      "11\n",
      "13\n"
     ]
    }
   ],
   "source": [
    "for i, j in zip(l1,l2):   # using loop\n",
    "    print(i+j)"
   ]
  },
  {
   "cell_type": "code",
   "execution_count": 104,
   "id": "6313881b-13b2-4ff5-9ce5-73b530f2d475",
   "metadata": {},
   "outputs": [
    {
     "data": {
      "text/plain": [
       "[5, 7, 9, 11, 13]"
      ]
     },
     "execution_count": 104,
     "metadata": {},
     "output_type": "execute_result"
    }
   ],
   "source": [
    "empty=[]\n",
    "for i,j in zip(l1,l2):\n",
    "    empty.append(i+j)\n",
    "empty"
   ]
  },
  {
   "cell_type": "code",
   "execution_count": 107,
   "id": "88c0a26a-8d09-4d86-9cbb-fa3f85910ac0",
   "metadata": {},
   "outputs": [
    {
     "data": {
      "text/plain": [
       "array([ 5,  7,  9, 11, 13])"
      ]
     },
     "execution_count": 107,
     "metadata": {},
     "output_type": "execute_result"
    }
   ],
   "source": [
    "array1=np.array([1,2,3,4,5])\n",
    "array2=np.array([4,5,6,7,8])\n",
    "array1+array2"
   ]
  },
  {
   "cell_type": "markdown",
   "id": "99d823e1-1912-44d9-8557-e865108ebfa9",
   "metadata": {},
   "source": [
    "# Rule2:-"
   ]
  },
  {
   "cell_type": "code",
   "execution_count": 115,
   "id": "16978708-fb4f-4ff6-8932-3385fd9e7221",
   "metadata": {},
   "outputs": [
    {
     "data": {
      "text/plain": [
       "[5, 7, 9, 11, 13]"
      ]
     },
     "execution_count": 115,
     "metadata": {},
     "output_type": "execute_result"
    }
   ],
   "source": [
    "empty2=[i+j for i,j in zip(l1,l2)]\n",
    "empty2"
   ]
  },
  {
   "cell_type": "code",
   "execution_count": 121,
   "id": "92ac9d5d-994d-473f-af65-4f7b12f664a0",
   "metadata": {},
   "outputs": [
    {
     "data": {
      "text/plain": [
       "array([1, 2, 3, 4, 5, 4, 5, 6, 7, 8])"
      ]
     },
     "execution_count": 121,
     "metadata": {},
     "output_type": "execute_result"
    }
   ],
   "source": [
    "np.concatenate((array1,array2))"
   ]
  },
  {
   "cell_type": "code",
   "execution_count": 122,
   "id": "2bb4f770-2de5-4187-9cd9-a52cc709368d",
   "metadata": {},
   "outputs": [
    {
     "data": {
      "text/plain": [
       "array([ 4, 10, 18, 28, 40])"
      ]
     },
     "execution_count": 122,
     "metadata": {},
     "output_type": "execute_result"
    }
   ],
   "source": [
    "array1*array2"
   ]
  },
  {
   "cell_type": "code",
   "execution_count": 123,
   "id": "7ef79946-8bf2-4b5c-84bc-28b5b4c4267f",
   "metadata": {},
   "outputs": [
    {
     "data": {
      "text/plain": [
       "array([0.25      , 0.4       , 0.5       , 0.57142857, 0.625     ])"
      ]
     },
     "execution_count": 123,
     "metadata": {},
     "output_type": "execute_result"
    }
   ],
   "source": [
    "array1/array2"
   ]
  },
  {
   "cell_type": "code",
   "execution_count": 124,
   "id": "b1a3b093-2f47-4150-8c15-576803057f47",
   "metadata": {},
   "outputs": [
    {
     "data": {
      "text/plain": [
       "array([0, 0, 0, 0, 0], dtype=int32)"
      ]
     },
     "execution_count": 124,
     "metadata": {},
     "output_type": "execute_result"
    }
   ],
   "source": [
    "array1//array2"
   ]
  },
  {
   "cell_type": "code",
   "execution_count": 125,
   "id": "795bed2b-427a-439c-8875-a16983e286d3",
   "metadata": {},
   "outputs": [
    {
     "data": {
      "text/plain": [
       "array([-3, -3, -3, -3, -3])"
      ]
     },
     "execution_count": 125,
     "metadata": {},
     "output_type": "execute_result"
    }
   ],
   "source": [
    "array1-array2"
   ]
  },
  {
   "cell_type": "code",
   "execution_count": 126,
   "id": "95b06f7c-65af-40c0-a343-4d12bf7d1c43",
   "metadata": {},
   "outputs": [
    {
     "ename": "SyntaxError",
     "evalue": "expression cannot contain assignment, perhaps you meant \"==\"? (3638629262.py, line 1)",
     "output_type": "error",
     "traceback": [
      "\u001b[1;36m  File \u001b[1;32m\"C:\\Users\\DELL\\AppData\\Local\\Temp\\ipykernel_816\\3638629262.py\"\u001b[1;36m, line \u001b[1;32m1\u001b[0m\n\u001b[1;33m    np.round(array1/array2.decimals=2)\u001b[0m\n\u001b[1;37m             ^\u001b[0m\n\u001b[1;31mSyntaxError\u001b[0m\u001b[1;31m:\u001b[0m expression cannot contain assignment, perhaps you meant \"==\"?\n"
     ]
    }
   ],
   "source": [
    "np.round(array1/array2.decimals=2)"
   ]
  },
  {
   "cell_type": "code",
   "execution_count": null,
   "id": "5733e404-3d4e-4911-81e3-31deb9426b53",
   "metadata": {},
   "outputs": [],
   "source": []
  }
 ],
 "metadata": {
  "kernelspec": {
   "display_name": "Python 3 (ipykernel)",
   "language": "python",
   "name": "python3"
  },
  "language_info": {
   "codemirror_mode": {
    "name": "ipython",
    "version": 3
   },
   "file_extension": ".py",
   "mimetype": "text/x-python",
   "name": "python",
   "nbconvert_exporter": "python",
   "pygments_lexer": "ipython3",
   "version": "3.9.13"
  }
 },
 "nbformat": 4,
 "nbformat_minor": 5
}
